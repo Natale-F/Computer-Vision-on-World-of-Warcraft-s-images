{
 "cells": [
  {
   "cell_type": "markdown",
   "metadata": {},
   "source": [
    "# What is this script used for?\n",
    "\n",
    "The aim of this notebook is to move the images from the folder where they are stored to new folders that are better suited to loading data for deep learning.\n",
    "\n",
    "**This notebook prepares an architecture for the task of binary classification of the images in faction (horde or alliance) for images without background.**\n",
    "\n",
    "More informations about architectures for keras loaders : https://machinelearningmastery.com/how-to-load-large-datasets-from-directories-for-deep-learning-with-keras/\n",
    "\n",
    "\n",
    "# How is it done?\n",
    "\n",
    "I use **pandas, os and shutil** librairies."
   ]
  },
  {
   "cell_type": "code",
   "execution_count": 1,
   "metadata": {},
   "outputs": [],
   "source": [
    "import os\n",
    "import pandas as pd\n",
    "import shutil\n",
    "\n",
    "from tqdm.notebook import tqdm"
   ]
  },
  {
   "cell_type": "markdown",
   "metadata": {},
   "source": [
    "# Load informations about characters"
   ]
  },
  {
   "cell_type": "code",
   "execution_count": null,
   "metadata": {},
   "outputs": [],
   "source": [
    "# import the dataframe with character's informations for the database without background\n",
    "df = pd.read_csv(\"Data/DB_without_BG.csv\", header=0, sep=\";\", \n",
    "                 names=[\"Rank\", \"Guild\", \"Realm\", \"ItemsLvl\", \"name\",\n",
    "                        \"class\", \"faction\", \"gender\", \"race\", \n",
    "                        \"url_with_background\", \"url_character\", \"ID\"])\n",
    "\n",
    "# Mix the rows before split (random_state for reproductibility !)\n",
    "df = df.sample(frac=1, random_state=0)\n",
    "\n",
    "# We take 70% of the data for the training and the rest for the test (we'll use cross-validation \n",
    "# with the training dataset)\n",
    "N_train = int(df.shape[0] * 0.7)\n",
    "\n",
    "df_train = df[:N_train]\n",
    "df_test = df[N_train:]"
   ]
  },
  {
   "cell_type": "markdown",
   "metadata": {},
   "source": [
    "# Folder creation "
   ]
  },
  {
   "cell_type": "code",
   "execution_count": null,
   "metadata": {},
   "outputs": [],
   "source": [
    "# creation of the folders that will contain the data\n",
    "os.mkdir(\"Data/Without_background/train\")\n",
    "os.mkdir(\"Data/Without_background/test\")\n",
    "\n",
    "# for each group (train/test) and label (horde/alliance) a folder is create\n",
    "for dtset_type in [\"train\", \"test\"]:\n",
    "    for faction in [\"horde\", \"alliance\"]:\n",
    "        os.mkdir(\"Data/Without_background/\" + dtset_type + \"/\" + faction)"
   ]
  },
  {
   "cell_type": "markdown",
   "metadata": {},
   "source": [
    "# Move image in corresponding folder \n",
    "\n",
    "You can download the database here : https://drive.google.com/drive/u/0/folders/1jQmVFVDiBfFnWIGnOfJNonF2-bA6xQS5"
   ]
  },
  {
   "cell_type": "code",
   "execution_count": null,
   "metadata": {},
   "outputs": [],
   "source": [
    "# The path were data are stored before move\n",
    "path_raw = \"Data/Without_background\"\n",
    "\n",
    "# A simple loop to iterate on the dataframes created above as well as on the type of data set\n",
    "for df, data_type in zip([df_train, df_test], [\"train\", \"test\"]):\n",
    "    # images are store in this format : \"name-server.jpg\"\n",
    "    images_list = df['ID'] + \".jpg\"\n",
    "    # for all images in the dataframe \n",
    "    for image in tqdm(images_list):\n",
    "        # the current path of the image\n",
    "        curent_path = path_raw + '/'+ image + \".jpg\"\n",
    "        # the corresponding row in the dataframe\n",
    "        row_id = df[df['ID'] == image]\n",
    "        # the faction of this character\n",
    "        faction = row_id[\"faction\"].iloc[0]\n",
    "        # if the faction is horde then move the image to the corresponding folder\n",
    "        if faction == \"horde\":\n",
    "            new_path = path_raw + '/' + data_type + '/horde/' + image\n",
    "            shutil.move(curent_path, new_path)\n",
    "        # same work if the faction is alliance (if the faction isn't horde --> it's alliance)\n",
    "        else: \n",
    "            new_path = path_raw + '/' + data_type + '/alliance/' + image\n",
    "            shutil.move(curent_path, new_path)"
   ]
  },
  {
   "cell_type": "markdown",
   "metadata": {},
   "source": [
    "# Validation dataset\n",
    "\n",
    "**Edit : I add this part because when I created this notebook I thought I could use the option \"validation_split\" of the method fit of keras but it's not possible with \"ImageDataGenerator\"**\n",
    "\n",
    "Link :https://stackoverflow.com/questions/63166479/valueerror-validation-split-is-only-supported-for-tensors-or-numpy-arrays-fo\n",
    "\n",
    "There is a need for a set of validations in order to correctly optimise a Machine Learning (and therefore Deep Learning) algorithm.\n",
    "More informations here : https://en.wikipedia.org/wiki/Training,_validation,_and_test_sets#Validation_dataset\n",
    "\n",
    "We take 20% of the training set in order to create this new set."
   ]
  },
  {
   "cell_type": "code",
   "execution_count": null,
   "metadata": {},
   "outputs": [],
   "source": [
    "# directories of the training dataset \n",
    "dir_ally = \"Data/With_background/train/alliance\"\n",
    "dir_h2 = \"Data/With_background/train/horde\"\n",
    "\n",
    "# number of images for each categories\n",
    "nb_ally = len(os.listdir(dir_ally))\n",
    "nb_horde = len(os.listdir(dir_h2))\n",
    "\n",
    "# total number of images in the training dataset\n",
    "nb_total = nb_ally + nb_horde\n",
    "\n",
    "# 20% for the validation dataset\n",
    "percent_valid = 0.2\n",
    "nb_valid = int(nb_total*0.2)\n",
    "\n",
    "# In order to have a representative validation set we take 30% of the total number of images\n",
    "# for the category alliance (there are twice as many images of characters from the horde in the total dataset)\n",
    "nb_ally = int(nb_valid/3)\n",
    "nb_h2 = nb_valid - nb_ally\n",
    "\n",
    "# list of the characters that will be transferts into the validation set\n",
    "list_ally = os.listdir(dir_ally)\n",
    "list_h2 = os.listdir(dir_h2)\n",
    "\n",
    "# above numbers of characters for each category\n",
    "ally_valid = list_ally[:nb_ally]\n",
    "h2_valid = list_h2[:nb_h2]\n",
    "\n",
    "# directory of the validation\n",
    "dir_valid =  \"Data/With_background/validation/\"\n",
    "# create the folder\n",
    "os.mkdir(dir_valid)\n",
    "\n",
    "# Move images from training folder to validation folder\n",
    "for list_name, direct, faction in zip([ally_valid, h2_valid], [dir_ally, dir_h2], ['alliance', 'horde']):\n",
    "    for image_name in tqdm(list_name):\n",
    "        curent_path = direct + '/' + image_name\n",
    "        new_path = dir_valid + faction + \"/\" + image_name\n",
    "        shutil.move(curent_path, new_path)"
   ]
  }
 ],
 "metadata": {
  "kernelspec": {
   "display_name": "Python 3",
   "language": "python",
   "name": "python3"
  },
  "language_info": {
   "codemirror_mode": {
    "name": "ipython",
    "version": 3
   },
   "file_extension": ".py",
   "mimetype": "text/x-python",
   "name": "python",
   "nbconvert_exporter": "python",
   "pygments_lexer": "ipython3",
   "version": "3.8.3"
  },
  "toc": {
   "base_numbering": 1,
   "nav_menu": {},
   "number_sections": true,
   "sideBar": true,
   "skip_h1_title": false,
   "title_cell": "Table of Contents",
   "title_sidebar": "Contents",
   "toc_cell": false,
   "toc_position": {},
   "toc_section_display": true,
   "toc_window_display": false
  }
 },
 "nbformat": 4,
 "nbformat_minor": 4
}
