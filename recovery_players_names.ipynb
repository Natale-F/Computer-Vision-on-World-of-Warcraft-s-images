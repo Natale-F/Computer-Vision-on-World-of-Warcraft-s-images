{
 "cells": [
  {
   "cell_type": "markdown",
   "metadata": {},
   "source": [
    "# What is this notebook used for?\n",
    "\n",
    "The purpose of this notebook is to recover player's informations of the top 50 000 EU players (best item level) in World of Warcraft. These informations will help in a next notebook to download the corresponding images of these players to train some Artificial Intelligence models.\n",
    "\n",
    "# How is it done?\n",
    "\n",
    "I use **requests & BeautifulSoup** to recovers these informations from https://www.wowprogress.com/gearscore/eu and put the data into a DataFrame using **pandas**."
   ]
  },
  {
   "cell_type": "code",
   "execution_count": 1,
   "metadata": {},
   "outputs": [],
   "source": [
    "import requests\n",
    "import pandas as pd\n",
    "\n",
    "from tqdm.notebook import tqdm\n",
    "from bs4 import BeautifulSoup as bs"
   ]
  },
  {
   "cell_type": "code",
   "execution_count": 2,
   "metadata": {},
   "outputs": [],
   "source": [
    "def recoverCharacterInformation(url_page):\n",
    "    \"\"\"\n",
    "    This function recover the character's informations in the url_page using requests\n",
    "    and BeautifulSoup and return a list of dictionnaries that countains them.\n",
    "    \n",
    "    The function is based on the html architecture of the wowprogress website.\n",
    "\n",
    "    Parameters\n",
    "    ----------\n",
    "    url_page : string\n",
    "               wowprogress url's (with 23 players by page)\n",
    "\n",
    "    Returns\n",
    "    -------\n",
    "    infosCharacters : list\n",
    "                      the list with 23 player's informations (in dictionnaries)\n",
    "                  \n",
    "    Example \n",
    "    -------\n",
    "    \n",
    "    >>> recoverCharacterInformation(\"https://www.wowprogress.com/pve/eu/rating/next/0/rating.#rating370\")\n",
    "    \n",
    "    [{'rank': '1', 'character': 'Nekroth', 'guild': 'Instinct', 'raid': '', 'realm': 'Alleria', 'itemsLvl': '484.75'},\n",
    "    ...\n",
    "    {'rank': '23', 'character': 'Yukile', 'guild': 'Not Great Not Terr..', 'raid': '', 'realm': 'Sylvanas', \n",
    "    'itemsLvl': '483.50'}]\n",
    "     \n",
    "    \"\"\"\n",
    "    # The list who will countains characters's wowprogress page informations\n",
    "    infosCharacters = []\n",
    "    \n",
    "    # Use a get request to the url\n",
    "    response = requests.get(url_page)\n",
    "           \n",
    "    # Prepare the soup for information retrieval in the html\n",
    "    soup = bs(response.content, \"html.parser\")\n",
    "    \n",
    "    # Retrieves the table containing the informations\n",
    "    ratingTable = soup.find(\"table\", class_=\"rating\")\n",
    "    # Retreves the rows of this table (find_all return a list)\n",
    "    Rows = ratingTable.find_all(\"tr\")\n",
    "    \n",
    "    # Column's names\n",
    "    recoveredItems = [\"rank\", \"character\", \"guild\", \n",
    "                      \"raid\", \"realm\", \"itemsLvl\"]\n",
    "    # We don't need the first item (index 0) in the loop because\n",
    "    # it's column's names\n",
    "    for i in range(1, len(Rows)):\n",
    "        # 1 dictionnary by row /character\n",
    "        dicoCharacter = {}\n",
    "        # the informations of the Rows[i] are in \"td\"\n",
    "        row = Rows[i].find_all(\"td\")\n",
    "        \n",
    "        for i in range(len(recoveredItems)):\n",
    "            # recovery of the above column's name\n",
    "            col_name = recoveredItems[i]\n",
    "            # add informations to the dictionnary\n",
    "            dicoCharacter[col_name] = row[i].get_text()\n",
    "\n",
    "        #Add row's dictionnary to the list\n",
    "        infosCharacters.append(dicoCharacter)\n",
    "    # return the list\n",
    "    return infosCharacters"
   ]
  },
  {
   "cell_type": "markdown",
   "metadata": {},
   "source": [
    "## In order to be able to retrieve information from the different pages we need to identify the structure of the URL\n",
    "\n",
    "When can't see any url change when we clic on the \"next\" button to see the next page but with an inspect (right clic + inspect) we see below urls.\n",
    "\n",
    "url page 2 : https://www.wowprogress.com/gearscore/eu/char_rating/next/0#char_rating\n",
    "\n",
    "url page 3 : https://www.wowprogress.com/gearscore/eu/char_rating/next/1#char_rating\n",
    "\n",
    "...\n",
    "\n",
    "We can see that there is just 1 character that change in the URL, a **simple loop is enough to iterate the URL.**\n",
    "\n",
    "There are 23 characters per page and the website ranks the top 50,000 players so we need 50000/23 = **2174 pages.**"
   ]
  },
  {
   "cell_type": "code",
   "execution_count": 3,
   "metadata": {
    "scrolled": true
   },
   "outputs": [],
   "source": [
    "# URL of the main page\n",
    "urlMainPage = \"https://www.wowprogress.com/gearscore/eu\""
   ]
  },
  {
   "cell_type": "code",
   "execution_count": 4,
   "metadata": {
    "scrolled": true
   },
   "outputs": [
    {
     "data": {
      "application/vnd.jupyter.widget-view+json": {
       "model_id": "06a239db40ba442c8306fb15faea926e",
       "version_major": 2,
       "version_minor": 0
      },
      "text/plain": [
       "HBox(children=(HTML(value=''), FloatProgress(value=0.0, max=2173.0), HTML(value='')))"
      ]
     },
     "metadata": {},
     "output_type": "display_data"
    },
    {
     "name": "stdout",
     "output_type": "stream",
     "text": [
      "\n"
     ]
    }
   ],
   "source": [
    "# Number of page to scrape (2174 - 1 because the first page isn't in the loop)\n",
    "N = 2173\n",
    "\n",
    "# This dictionnary will countain the output of the above function for each page \n",
    "dicoList = {}\n",
    "\n",
    "# The main page hasn't the same URL structure so we need to use the above function outside the loop\n",
    "dicoList[\"0-23\"] = recoverCharacterInformation(urlMainPage)\n",
    " \n",
    "# iterate on urls and add lists to the dictionnary  \n",
    "for i in tqdm(range(N)):\n",
    "    # create url like above\n",
    "    url = \"https://www.wowprogress.com/gearscore/eu/char_rating/next/\" + str(i) + \"#char_rating\"\n",
    "    # add the url's page informations\n",
    "    dicoList[str(23*(i+1)) + '-' + str(23*(i+2))] = recoverCharacterInformation(url)"
   ]
  },
  {
   "cell_type": "markdown",
   "metadata": {},
   "source": [
    "# DataFrame creation & export into a csv file"
   ]
  },
  {
   "cell_type": "code",
   "execution_count": 5,
   "metadata": {},
   "outputs": [
    {
     "data": {
      "application/vnd.jupyter.widget-view+json": {
       "model_id": "2e4eed7b455d494d9b9b920a079c7603",
       "version_major": 2,
       "version_minor": 0
      },
      "text/plain": [
       "HBox(children=(HTML(value=''), FloatProgress(value=0.0, max=2174.0), HTML(value='')))"
      ]
     },
     "metadata": {},
     "output_type": "display_data"
    },
    {
     "name": "stdout",
     "output_type": "stream",
     "text": [
      "\n"
     ]
    },
    {
     "data": {
      "text/html": [
       "<div>\n",
       "<style scoped>\n",
       "    .dataframe tbody tr th:only-of-type {\n",
       "        vertical-align: middle;\n",
       "    }\n",
       "\n",
       "    .dataframe tbody tr th {\n",
       "        vertical-align: top;\n",
       "    }\n",
       "\n",
       "    .dataframe thead th {\n",
       "        text-align: right;\n",
       "    }\n",
       "</style>\n",
       "<table border=\"1\" class=\"dataframe\">\n",
       "  <thead>\n",
       "    <tr style=\"text-align: right;\">\n",
       "      <th></th>\n",
       "      <th>Rank</th>\n",
       "      <th>Character</th>\n",
       "      <th>Guild</th>\n",
       "      <th>Realm</th>\n",
       "      <th>ItemsLvl</th>\n",
       "    </tr>\n",
       "  </thead>\n",
       "  <tbody>\n",
       "    <tr>\n",
       "      <th>49995</th>\n",
       "      <td>49996</td>\n",
       "      <td>Skyæh</td>\n",
       "      <td>CynicaI</td>\n",
       "      <td>Ragnaros</td>\n",
       "      <td>470.31</td>\n",
       "    </tr>\n",
       "    <tr>\n",
       "      <th>49996</th>\n",
       "      <td>49997</td>\n",
       "      <td>Kamazing</td>\n",
       "      <td>Schattenspiel</td>\n",
       "      <td>Garrosh</td>\n",
       "      <td>470.31</td>\n",
       "    </tr>\n",
       "    <tr>\n",
       "      <th>49997</th>\n",
       "      <td>49998</td>\n",
       "      <td>Barnzyh</td>\n",
       "      <td>Why no love</td>\n",
       "      <td>Twisting Nether</td>\n",
       "      <td>470.31</td>\n",
       "    </tr>\n",
       "    <tr>\n",
       "      <th>49998</th>\n",
       "      <td>49999</td>\n",
       "      <td>Yoinkymage</td>\n",
       "      <td>Couch Drei</td>\n",
       "      <td>Aegwynn</td>\n",
       "      <td>470.31</td>\n",
       "    </tr>\n",
       "    <tr>\n",
       "      <th>49999</th>\n",
       "      <td>50000</td>\n",
       "      <td>Ragnarøz</td>\n",
       "      <td>Yes Lads</td>\n",
       "      <td>Ragnaros</td>\n",
       "      <td>470.25</td>\n",
       "    </tr>\n",
       "  </tbody>\n",
       "</table>\n",
       "</div>"
      ],
      "text/plain": [
       "        Rank   Character          Guild            Realm ItemsLvl\n",
       "49995  49996       Skyæh        CynicaI         Ragnaros   470.31\n",
       "49996  49997    Kamazing  Schattenspiel          Garrosh   470.31\n",
       "49997  49998     Barnzyh    Why no love  Twisting Nether   470.31\n",
       "49998  49999  Yoinkymage     Couch Drei          Aegwynn   470.31\n",
       "49999  50000    Ragnarøz       Yes Lads         Ragnaros   470.25"
      ]
     },
     "execution_count": 5,
     "metadata": {},
     "output_type": "execute_result"
    }
   ],
   "source": [
    "# These lists will contain the information retrieved above\n",
    "list_ranks = []\n",
    "list_characters = []\n",
    "list_guilds = []\n",
    "list_realm = []\n",
    "list_ilvl = []\n",
    "\n",
    "# We iterate on the lists of different pages\n",
    "for twenty_3_characters in tqdm(dicoList.values()):\n",
    "    # For 1 page, we iterate on the characters of this page\n",
    "    for character in twenty_3_characters:\n",
    "        # add the informations to the lists\n",
    "        list_ranks.append(character[\"rank\"])\n",
    "        list_characters.append(character[\"character\"])\n",
    "        list_guilds.append(character[\"guild\"])\n",
    "        list_realm.append(character[\"realm\"])\n",
    "        list_ilvl.append(character[\"itemsLvl\"])\n",
    "        \n",
    "# Dataframe creation        \n",
    "data = {\"Rank\": list_ranks,\n",
    "        \"Character\": list_characters,\n",
    "        \"Guild\": list_guilds,\n",
    "        \"Realm\": list_realm,\n",
    "        \"ItemsLvl\": list_ilvl}\n",
    "\n",
    "df = pd.DataFrame(data)\n",
    "df.tail()"
   ]
  },
  {
   "cell_type": "code",
   "execution_count": 6,
   "metadata": {},
   "outputs": [],
   "source": [
    "# Export the DataFrame into a csv file\n",
    "df.to_csv(\"Data/characters_informations.csv\", sep=';')"
   ]
  }
 ],
 "metadata": {
  "kernelspec": {
   "display_name": "Python 3",
   "language": "python",
   "name": "python3"
  },
  "language_info": {
   "codemirror_mode": {
    "name": "ipython",
    "version": 3
   },
   "file_extension": ".py",
   "mimetype": "text/x-python",
   "name": "python",
   "nbconvert_exporter": "python",
   "pygments_lexer": "ipython3",
   "version": "3.8.3"
  },
  "toc": {
   "base_numbering": 1,
   "nav_menu": {},
   "number_sections": true,
   "sideBar": true,
   "skip_h1_title": false,
   "title_cell": "Table of Contents",
   "title_sidebar": "Contents",
   "toc_cell": false,
   "toc_position": {},
   "toc_section_display": true,
   "toc_window_display": false
  }
 },
 "nbformat": 4,
 "nbformat_minor": 4
}
